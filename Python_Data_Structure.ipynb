{
  "nbformat": 4,
  "nbformat_minor": 0,
  "metadata": {
    "colab": {
      "provenance": []
    },
    "kernelspec": {
      "name": "python3",
      "display_name": "Python 3"
    },
    "language_info": {
      "name": "python"
    }
  },
  "cells": [
    {
      "cell_type": "markdown",
      "source": [
        "#Data Types and Structures Questions"
      ],
      "metadata": {
        "id": "vV-Asnvw_0pc"
      }
    },
    {
      "cell_type": "markdown",
      "source": [
        "1. What are data structures, and why are they important?\n",
        "- Data structures are ways to organize and store data in a computer so it can be used efficiently.\n",
        "\n",
        " Importance:\n",
        " They help in managing large amounts of data, improving the performance of programs, and making problem-solving easier and faster.\n",
        "\n",
        "2. Explain the difference between mutable and immutable data types with examples?\n",
        "- The difference between mutable and immutable data types with examples.\n",
        "\n",
        " Mutable data types can be changed after creation.\n",
        "\n",
        " Examples:\n",
        " Mutable: list, dict, set\n",
        "\n",
        " Immutable data types cannot be changed once created.\n",
        "\n",
        " Examples:\n",
        " Immutable: int, str, tuple\n",
        "\n",
        "3. What are the main differences between lists and tuples in Python?\n",
        "- Main Differences Between Lists and Tuples in Python.\n",
        "\n",
        " Mutability:\n",
        "\n",
        " Lists are mutable, which means we can change, add, or remove elements after\n",
        "creation.\n",
        "\n",
        " Tuples are immutable, so we cannot change their values once created.\n",
        "\n",
        " Syntax:\n",
        "\n",
        " Lists use square brackets: [1, 2, 3]\n",
        "\n",
        " Tuples use round brackets: (1, 2, 3)\n",
        "\n",
        " Performance:\n",
        "\n",
        " Tuples are faster and take less memory compared to lists.\n",
        "\n",
        " Methods:\n",
        "\n",
        " Lists have more built-in functions like append(), remove(), etc.\n",
        "\n",
        " Tuples have fewer methods because they are fixed.\n",
        "\n",
        " Use Case:\n",
        "\n",
        " Use a list when the data may change.\n",
        "\n",
        " Use a tuple when the data should stay constant.\n",
        "\n",
        "4. Describe how dictionaries store data.\n",
        "- Dictionaries store data in key-value pairs. Each key is unique and is used to access its corresponding value.\n",
        "\n",
        "  Examples:\n",
        "  \n",
        " \"name\", \"age\", and \"grade\" are keys\n",
        "\n",
        " \"Om\", 17, and \"A\" are their values\n",
        "\n",
        "5. Why might you use a set instead of a list in Python?\n",
        "- You might use a set instead of a list when:\n",
        "\n",
        " You want only unique values\n",
        "\n",
        " Sets automatically remove duplicates.\n",
        "\n",
        "6. What is a string in Python, and how is it different from a list?\n",
        "- In Python, a string is a sequence of characters used to store text. It is written inside single (' ') or double (\" \") quotes.\n",
        "Differences Between String and List:\n",
        "\n",
        "| **Feature**   | **String**                     | **List**                          |\n",
        "|---------------|--------------------------------|-----------------------------------|\n",
        "| **Data Type** | Stores **text** (characters)   | Stores **multiple data types**    |\n",
        "| **Syntax**    | `\"Hello\"`                      | `[\"H\", \"e\", \"l\", \"l\", \"o\"]`       |\n",
        "| **Mutability**| **Immutable** (cannot change)  | **Mutable** (can change values)   |\n",
        "| **Methods**   | Has string-specific methods    | Has list-specific methods         |\n",
        "| **Usage**     | Used for text                  | Used for collections of items     |\n",
        "\n",
        "7. How do tuples ensure data integrity in Python?\n",
        "- Tuples help ensure data integrity because they are immutable, meaning once a tuple is created, its values cannot be changed. This makes them ideal for situations where you want to protect the data from being accidentally modified.\n",
        "\n",
        " Key Points:\n",
        "\n",
        " Immutability: Since you can't change, add, or remove elements from a tuple, it ensures the data remains the same throughout the program.\n",
        "\n",
        " Prevents Accidental Changes: When you store important information in a tuple (like coordinates, dates, etc.), it can't be accidentally modified, ensuring the integrity of the data.\n",
        "\n",
        "  Hashable:Tuples can be used as keys in dictionaries and sets because they are hashable. This also ensures data integrity when using tuples as identifiers or references.\n",
        "\n",
        "8. What is a hash table, and how does it relate to dictionaries in Python?\n",
        "- A hash table stores data in key-value pairs using a hash function to find where to store the data. In Python, dictionaries work like hash tables because they use hashing to quickly retrieve values based on their keys.\n",
        "\n",
        "9. Can lists contain different data types in Python?\n",
        "- Yes, in Python, lists can contain different data types. A list is a collection that can hold any type of data, including integers, strings, floats, and even other lists or objects.\n",
        "\n",
        "10. Explain why strings are immutable in Python.\n",
        "- Strings in Python are immutable, which means once a string is created, its value cannot be changed. This happens because strings are designed to be efficient and safe in Python.\n",
        "\n",
        "11. What advantages do dictionaries offer over lists for certain tasks?\n",
        "- Dictionaries offer several advantages over lists when it comes to certain tasks, especially when you need to work with key-value pairs or perform fast lookups.\n",
        "\n",
        "12. Describe a scenario where using a tuple would be preferable over a list.\n",
        "- Imagine you're working on a project that needs to store coordinates for locations on a map, like latitude and longitude. These coordinates should never change because they represent fixed positions.\n",
        " In this case, a tuple would be a better choice than a list because tuples are immutable. This ensures that once the coordinates are set, they cannot be accidentally changed, which helps maintain the integrity of the data.\n",
        "\n",
        "13. How do sets handle duplicate values in Python?\n",
        "- Sets don’t allow duplicates. If you add the same value multiple times, the set will keep just one copy, making it perfect for storing unique items.\n",
        "\n",
        "14. How does the “in” keyword work differently for lists and dictionaries?\n",
        "- The in keyword is used to check if something exists, but it works a bit differently for lists and dictionaries.\n",
        "\n",
        " In Lists: It checks if a value is present in the list.\n",
        "\n",
        " In Dictionaries: It checks if a key (not value) is present in the dictionary.\n",
        "\n",
        "15. Can you modify the elements of a tuple? Explain why or why not.\n",
        "- No, you cannot modify the elements of a tuple in Python because tuples are immutable. This means once a tuple is created, its values cannot be changed, added, or removed.\n",
        "\n",
        " Why Not?\n",
        "\n",
        " Tuples are designed to protect the data from changes.\n",
        "\n",
        " They are used when you want to store fixed, unchangeable data.\n",
        "\n",
        " Immutability also makes tuples faster and usable as dictionary keys.\n",
        "\n",
        "16. What is a nested dictionary, and give an example of its use case?\n",
        "- A nested dictionary is a dictionary inside another dictionary. It means that the value for a key can itself be another dictionary.\n",
        " Example:\n",
        "\n",
        " \"grades\" is a key, and its value is another dictionary with subjects and marks.\n",
        "\n",
        "17.Describe the time complexity of accessing elements in a dictionary.\n",
        "- Accessing elements in a dictionary is very fast in Python. The time complexity is O(1) on average, which means it takes constant time, no matter how many items are in the dictionary.\n",
        "\n",
        "18. In what situations are lists preferred over dictionaries?\n",
        "- Lists are preferred over dictionaries when you need to store a collection of items in a specific order and you don’t need to label them with unique keys.\n",
        "\n",
        "19. Why are dictionaries considered unordered, and how does that affect data retrieval?\n",
        "- Dictionaries were unordered before, meaning their items had no fixed order. This didn’t affect retrieving data by key, but it meant you couldn't expect them to come out in the same sequence. Now they keep order, but they’re still used for fast key lookups, not for storing things in order.\n",
        "\n",
        "\n",
        "20. Explain the difference between a list and a dictionary in terms of data retrieval.\n",
        "- The main difference between a list and a dictionary is how you get (retrieve) data from them.\n",
        "\n",
        " List:\n",
        "\n",
        " You get data using index numbers (like position).\n",
        "\n",
        " Example: If you want the first item, you use list[0].\n",
        "\n",
        " It's good when you care about order or want to loop through items in sequence.\n",
        "\n",
        "  Dictionary:\n",
        "\n",
        "  You get data using a key (like a label).\n",
        "\n",
        " Example: If you want a student's name, you use dict[\"name\"].\n",
        "\n",
        " It's better when you want fast lookups using a known key, and not by position.\n"
      ],
      "metadata": {
        "id": "i_ILsD1H_9Fe"
      }
    },
    {
      "cell_type": "markdown",
      "source": [
        "#Practical Questions"
      ],
      "metadata": {
        "id": "ccCfqk9bWJ4F"
      }
    },
    {
      "cell_type": "code",
      "source": [
        "#1. Write a code to create a string with your name and print it.\n",
        "'''\n",
        "name = \"Om\"\n",
        "print(name)\n",
        "'''"
      ],
      "metadata": {
        "colab": {
          "base_uri": "https://localhost:8080/",
          "height": 35
        },
        "id": "ts3jH1cxWMTR",
        "outputId": "7adaf90f-a2e4-4e00-d72d-e02db7844f14"
      },
      "execution_count": 8,
      "outputs": [
        {
          "output_type": "execute_result",
          "data": {
            "text/plain": [
              "'\\nname = \"Om\"\\nprint(name)\\n'"
            ],
            "application/vnd.google.colaboratory.intrinsic+json": {
              "type": "string"
            }
          },
          "metadata": {},
          "execution_count": 8
        }
      ]
    },
    {
      "cell_type": "code",
      "source": [
        "#2. Write a code to find the length of the string \"Hello World\".\n",
        "'''\n",
        "text = \"Hello World\"\n",
        "length = len(text)\n",
        "print(length)\n",
        "'''"
      ],
      "metadata": {
        "colab": {
          "base_uri": "https://localhost:8080/",
          "height": 35
        },
        "id": "zIQkPPfHWxVC",
        "outputId": "8971eecd-5c9d-4903-9bb4-ba01d169a3b3"
      },
      "execution_count": 9,
      "outputs": [
        {
          "output_type": "execute_result",
          "data": {
            "text/plain": [
              "'\\ntext = \"Hello World\"\\nlength = len(text)\\nprint(length)\\n'"
            ],
            "application/vnd.google.colaboratory.intrinsic+json": {
              "type": "string"
            }
          },
          "metadata": {},
          "execution_count": 9
        }
      ]
    },
    {
      "cell_type": "code",
      "source": [
        "#3. Write a code to slice the first 3 characters from the string \"Python Programming\".\n",
        "'''\n",
        "text = \"Python Programming\"\n",
        "slice_result = text[:3]\n",
        "print(slice_result)\n",
        "'''"
      ],
      "metadata": {
        "colab": {
          "base_uri": "https://localhost:8080/",
          "height": 35
        },
        "id": "4ahDWdIPW4TJ",
        "outputId": "d19d4ac0-cae2-4a2f-9bcc-170d91f6077d"
      },
      "execution_count": 10,
      "outputs": [
        {
          "output_type": "execute_result",
          "data": {
            "text/plain": [
              "'\\ntext = \"Python Programming\"\\nslice_result = text[:3]\\nprint(slice_result)\\n'"
            ],
            "application/vnd.google.colaboratory.intrinsic+json": {
              "type": "string"
            }
          },
          "metadata": {},
          "execution_count": 10
        }
      ]
    },
    {
      "cell_type": "code",
      "source": [
        "#4.  Write a code to convert the string \"hello\" to uppercase.\n",
        "'''\n",
        "text = \"hello\"\n",
        "uppercase_text = text.upper()\n",
        "print(uppercase_text)\n",
        "'''"
      ],
      "metadata": {
        "colab": {
          "base_uri": "https://localhost:8080/",
          "height": 35
        },
        "id": "dXQeyCMyX1id",
        "outputId": "ce3cbdd1-ea6b-4ea7-dd22-f29dfbcac140"
      },
      "execution_count": 11,
      "outputs": [
        {
          "output_type": "execute_result",
          "data": {
            "text/plain": [
              "'\\ntext = \"hello\"\\nuppercase_text = text.upper()\\nprint(uppercase_text)\\n'"
            ],
            "application/vnd.google.colaboratory.intrinsic+json": {
              "type": "string"
            }
          },
          "metadata": {},
          "execution_count": 11
        }
      ]
    },
    {
      "cell_type": "code",
      "source": [
        "#5. Write a code to replace the word \"apple\" with \"orange\" in the string \"I like apple\".\n",
        "'''\n",
        "text = \"I like apple\"\n",
        "new_text = text.replace(\"apple\", \"orange\")\n",
        "print(new_text)\n",
        "'''"
      ],
      "metadata": {
        "colab": {
          "base_uri": "https://localhost:8080/",
          "height": 35
        },
        "id": "SORaQgv6YIKG",
        "outputId": "9f3c592b-1d41-4cca-b1ed-89139d6ff839"
      },
      "execution_count": 12,
      "outputs": [
        {
          "output_type": "execute_result",
          "data": {
            "text/plain": [
              "'\\ntext = \"I like apple\"\\nnew_text = text.replace(\"apple\", \"orange\")\\nprint(new_text)\\n'"
            ],
            "application/vnd.google.colaboratory.intrinsic+json": {
              "type": "string"
            }
          },
          "metadata": {},
          "execution_count": 12
        }
      ]
    },
    {
      "cell_type": "code",
      "source": [
        "#6. Write a code to create a list with numbers 1 to 5 and print it.\n",
        "'''\n",
        "numbers = [1, 2, 3, 4, 5]\n",
        "print(numbers)\n",
        "'''"
      ],
      "metadata": {
        "colab": {
          "base_uri": "https://localhost:8080/",
          "height": 35
        },
        "id": "xTxl9xDuZba0",
        "outputId": "5bffdfa7-2d64-4e56-bd9a-b25d8399fe7b"
      },
      "execution_count": 13,
      "outputs": [
        {
          "output_type": "execute_result",
          "data": {
            "text/plain": [
              "'\\nnumbers = [1, 2, 3, 4, 5]\\nprint(numbers)\\n'"
            ],
            "application/vnd.google.colaboratory.intrinsic+json": {
              "type": "string"
            }
          },
          "metadata": {},
          "execution_count": 13
        }
      ]
    },
    {
      "cell_type": "code",
      "source": [
        "#7. Write a code to append the number 10 to the list [1, 2, 3, 4].\n",
        "'''\n",
        "numbers = [1, 2, 3, 4]\n",
        "numbers.append(10)\n",
        "print(numbers)\n",
        "'''"
      ],
      "metadata": {
        "colab": {
          "base_uri": "https://localhost:8080/",
          "height": 35
        },
        "id": "Dcoadi36Zy27",
        "outputId": "667abfd4-f2d8-48ca-878d-3884c8fb784f"
      },
      "execution_count": 14,
      "outputs": [
        {
          "output_type": "execute_result",
          "data": {
            "text/plain": [
              "'\\nnumbers = [1, 2, 3, 4]\\nnumbers.append(10)\\nprint(numbers)\\n'"
            ],
            "application/vnd.google.colaboratory.intrinsic+json": {
              "type": "string"
            }
          },
          "metadata": {},
          "execution_count": 14
        }
      ]
    },
    {
      "cell_type": "code",
      "source": [
        "#8. Write a code to remove the number 3 from the list [1, 2, 3, 4, 5].\n",
        "'''\n",
        "numbers = [1, 2, 3, 4, 5]\n",
        "numbers.remove(3)\n",
        "print(numbers)\n",
        "'''"
      ],
      "metadata": {
        "colab": {
          "base_uri": "https://localhost:8080/",
          "height": 35
        },
        "id": "QbXNMSNmaSVA",
        "outputId": "7718dd53-f8c0-4ae5-8093-fb773c3998b6"
      },
      "execution_count": 15,
      "outputs": [
        {
          "output_type": "execute_result",
          "data": {
            "text/plain": [
              "'\\nnumbers = [1, 2, 3, 4, 5]\\nnumbers.remove(3)\\nprint(numbers)\\n'"
            ],
            "application/vnd.google.colaboratory.intrinsic+json": {
              "type": "string"
            }
          },
          "metadata": {},
          "execution_count": 15
        }
      ]
    },
    {
      "cell_type": "code",
      "source": [
        "#9. Write a code to access the second element in the list ['a', 'b', 'c', 'd'].\n",
        "'''\n",
        "letters = ['a', 'b', 'c', 'd']\n",
        "second_element = letters[1]\n",
        "print(second_element)\n",
        "'''"
      ],
      "metadata": {
        "colab": {
          "base_uri": "https://localhost:8080/",
          "height": 35
        },
        "id": "uyrP3b98aisn",
        "outputId": "86ed2dde-e718-464b-c302-6c0253a3b90b"
      },
      "execution_count": 16,
      "outputs": [
        {
          "output_type": "execute_result",
          "data": {
            "text/plain": [
              "\"\\nletters = ['a', 'b', 'c', 'd']\\nsecond_element = letters[1]\\nprint(second_element)\\n\""
            ],
            "application/vnd.google.colaboratory.intrinsic+json": {
              "type": "string"
            }
          },
          "metadata": {},
          "execution_count": 16
        }
      ]
    },
    {
      "cell_type": "code",
      "source": [
        "#10. Write a code to reverse the list [10, 20, 30, 40, 50].\n",
        "'''\n",
        "numbers = [10, 20, 30, 40, 50]\n",
        "numbers.reverse()\n",
        "print(numbers)\n",
        "'''"
      ],
      "metadata": {
        "colab": {
          "base_uri": "https://localhost:8080/",
          "height": 35
        },
        "id": "sq1dqz0Na6oH",
        "outputId": "ea459596-1083-435a-b987-603854206bcd"
      },
      "execution_count": 17,
      "outputs": [
        {
          "output_type": "execute_result",
          "data": {
            "text/plain": [
              "'\\nnumbers = [10, 20, 30, 40, 50]\\nnumbers.reverse()\\nprint(numbers)\\n'"
            ],
            "application/vnd.google.colaboratory.intrinsic+json": {
              "type": "string"
            }
          },
          "metadata": {},
          "execution_count": 17
        }
      ]
    },
    {
      "cell_type": "code",
      "source": [
        "#11. Write a code to create a tuple with the elements 100, 200, 300 and print it.\n",
        "'''\n",
        "my_tuple = (100, 200, 300)\n",
        "print(my_tuple)\n",
        "'''"
      ],
      "metadata": {
        "colab": {
          "base_uri": "https://localhost:8080/",
          "height": 35
        },
        "id": "-j0-90VZbJ-B",
        "outputId": "385ca34f-da73-4443-da0e-97ee6dd9eeaf"
      },
      "execution_count": 18,
      "outputs": [
        {
          "output_type": "execute_result",
          "data": {
            "text/plain": [
              "'\\nmy_tuple = (100, 200, 300)\\nprint(my_tuple)\\n'"
            ],
            "application/vnd.google.colaboratory.intrinsic+json": {
              "type": "string"
            }
          },
          "metadata": {},
          "execution_count": 18
        }
      ]
    },
    {
      "cell_type": "code",
      "source": [
        "#12. Write a code to access the second-to-last element of the tuple ('red', 'green', 'blue', 'yellow').\n",
        "'''\n",
        "my_tuple = ('red', 'green', 'blue', 'yellow')\n",
        "second_to_last = my_tuple[-2]\n",
        "print(second_to_last)\n",
        "'''"
      ],
      "metadata": {
        "colab": {
          "base_uri": "https://localhost:8080/",
          "height": 35
        },
        "id": "8EkR7avubhtV",
        "outputId": "9e9edfde-424e-4855-a2f1-2c44008aef04"
      },
      "execution_count": 19,
      "outputs": [
        {
          "output_type": "execute_result",
          "data": {
            "text/plain": [
              "\"\\nmy_tuple = ('red', 'green', 'blue', 'yellow')\\nsecond_to_last = my_tuple[-2]\\nprint(second_to_last)\\n\""
            ],
            "application/vnd.google.colaboratory.intrinsic+json": {
              "type": "string"
            }
          },
          "metadata": {},
          "execution_count": 19
        }
      ]
    },
    {
      "cell_type": "code",
      "source": [
        "#13. Write a code to find the minimum number in the tuple (10, 20, 5, 15).\n",
        "'''\n",
        "numbers = (10, 20, 5, 15)\n",
        "min_value = min(numbers)\n",
        "print(min_value)\n",
        "'''"
      ],
      "metadata": {
        "colab": {
          "base_uri": "https://localhost:8080/",
          "height": 35
        },
        "id": "z2LGy6i6b3jM",
        "outputId": "e483b07d-e9da-4c72-9e35-d4497fb40a28"
      },
      "execution_count": 20,
      "outputs": [
        {
          "output_type": "execute_result",
          "data": {
            "text/plain": [
              "'\\nnumbers = (10, 20, 5, 15)\\nmin_value = min(numbers)\\nprint(min_value)\\n'"
            ],
            "application/vnd.google.colaboratory.intrinsic+json": {
              "type": "string"
            }
          },
          "metadata": {},
          "execution_count": 20
        }
      ]
    },
    {
      "cell_type": "code",
      "source": [
        "#14. Write a code to find the index of the element \"cat\" in the tuple ('dog', 'cat', 'rabbit').\n",
        "'''\n",
        "animals = ('dog', 'cat', 'rabbit')\n",
        "index_of_cat = animals.index('cat')\n",
        "print(index_of_cat)\n",
        "'''\n"
      ],
      "metadata": {
        "colab": {
          "base_uri": "https://localhost:8080/",
          "height": 35
        },
        "id": "y8tmHnGGcaLT",
        "outputId": "19a7ec56-2cf0-4d58-fb1e-64d5513418c3"
      },
      "execution_count": 21,
      "outputs": [
        {
          "output_type": "execute_result",
          "data": {
            "text/plain": [
              "\"\\nanimals = ('dog', 'cat', 'rabbit')\\nindex_of_cat = animals.index('cat')\\nprint(index_of_cat)\\n\""
            ],
            "application/vnd.google.colaboratory.intrinsic+json": {
              "type": "string"
            }
          },
          "metadata": {},
          "execution_count": 21
        }
      ]
    },
    {
      "cell_type": "code",
      "source": [
        "#15. Write a code to create a tuple containing three different fruits and check if \"kiwi\" is in it.\n",
        "'''\n",
        "fruits = (\"apple\", \"banana\", \"mango\")\n",
        "if \"kiwi\" in fruits:\n",
        "    print(\"Kiwi is in the tuple.\")\n",
        "else:\n",
        "    print(\"Kiwi is not in the tuple.\")\n",
        "'''"
      ],
      "metadata": {
        "colab": {
          "base_uri": "https://localhost:8080/",
          "height": 35
        },
        "id": "fIRV1dXXdAZj",
        "outputId": "15dc34ce-bb66-4441-8749-31326d094aae"
      },
      "execution_count": 22,
      "outputs": [
        {
          "output_type": "execute_result",
          "data": {
            "text/plain": [
              "'\\nfruits = (\"apple\", \"banana\", \"mango\")\\nif \"kiwi\" in fruits:\\n    print(\"Kiwi is in the tuple.\")\\nelse:\\n    print(\"Kiwi is not in the tuple.\")\\n'"
            ],
            "application/vnd.google.colaboratory.intrinsic+json": {
              "type": "string"
            }
          },
          "metadata": {},
          "execution_count": 22
        }
      ]
    },
    {
      "cell_type": "code",
      "source": [
        "#16. Write a code to create a set with the elements 'a', 'b', 'c' and print it.\n",
        "'''\n",
        "my_set = {'a', 'b', 'c'}\n",
        "print(my_set)\n",
        "'''"
      ],
      "metadata": {
        "colab": {
          "base_uri": "https://localhost:8080/",
          "height": 35
        },
        "id": "Q84Bl8cAdV-K",
        "outputId": "7c2af581-87c6-4d4e-bfe1-4666a1942b4d"
      },
      "execution_count": 23,
      "outputs": [
        {
          "output_type": "execute_result",
          "data": {
            "text/plain": [
              "\"\\nmy_set = {'a', 'b', 'c'}\\nprint(my_set)\\n\""
            ],
            "application/vnd.google.colaboratory.intrinsic+json": {
              "type": "string"
            }
          },
          "metadata": {},
          "execution_count": 23
        }
      ]
    },
    {
      "cell_type": "code",
      "source": [
        "#17. Write a code to clear all elements from the set {1, 2, 3, 4, 5}.\n",
        "'''\n",
        "my_set = {1, 2, 3, 4, 5}\n",
        "my_set.clear()\n",
        "print(my_set)\n",
        "'''"
      ],
      "metadata": {
        "colab": {
          "base_uri": "https://localhost:8080/",
          "height": 35
        },
        "id": "G--056zqeAaR",
        "outputId": "1fbee6c6-2c84-449b-d365-21d84c716e19"
      },
      "execution_count": 24,
      "outputs": [
        {
          "output_type": "execute_result",
          "data": {
            "text/plain": [
              "'\\nmy_set = {1, 2, 3, 4, 5}\\nmy_set.clear()\\nprint(my_set)\\n'"
            ],
            "application/vnd.google.colaboratory.intrinsic+json": {
              "type": "string"
            }
          },
          "metadata": {},
          "execution_count": 24
        }
      ]
    },
    {
      "cell_type": "code",
      "source": [
        "#18. Write a code to remove the element 4 from the set {1, 2, 3, 4}.\n",
        "'''\n",
        "my_set = {1, 2, 3, 4}\n",
        "my_set.remove(4)\n",
        "print(my_set)\n",
        "'''"
      ],
      "metadata": {
        "colab": {
          "base_uri": "https://localhost:8080/",
          "height": 35
        },
        "id": "9-viA4_ukhdg",
        "outputId": "d381a339-6287-4aee-c76e-656339dbf912"
      },
      "execution_count": 25,
      "outputs": [
        {
          "output_type": "execute_result",
          "data": {
            "text/plain": [
              "'\\nmy_set = {1, 2, 3, 4}\\nmy_set.remove(4)\\nprint(my_set)\\n'"
            ],
            "application/vnd.google.colaboratory.intrinsic+json": {
              "type": "string"
            }
          },
          "metadata": {},
          "execution_count": 25
        }
      ]
    },
    {
      "cell_type": "code",
      "source": [
        "#19. Write a code to find the union of two sets {1, 2, 3} and {3, 4, 5}.\n",
        "'''\n",
        "set1 = {1, 2, 3}\n",
        "set2 = {3, 4, 5}\n",
        "union_set = set1.union(set2)\n",
        "print(union_set)\n",
        "'''\n"
      ],
      "metadata": {
        "colab": {
          "base_uri": "https://localhost:8080/",
          "height": 35
        },
        "id": "YlvVnfoYkxyc",
        "outputId": "0c566d2b-6853-4ae8-bace-ad698fc93598"
      },
      "execution_count": 26,
      "outputs": [
        {
          "output_type": "execute_result",
          "data": {
            "text/plain": [
              "'\\nset1 = {1, 2, 3}\\nset2 = {3, 4, 5}\\nunion_set = set1.union(set2)\\nprint(union_set)\\n'"
            ],
            "application/vnd.google.colaboratory.intrinsic+json": {
              "type": "string"
            }
          },
          "metadata": {},
          "execution_count": 26
        }
      ]
    },
    {
      "cell_type": "code",
      "source": [
        "#20.  Write a code to find the intersection of two sets {1, 2, 3} and {2, 3, 4}.\n",
        "'''\n",
        "set1 = {1, 2, 3}\n",
        "set2 = {2, 3, 4}\n",
        "intersection_set = set1.intersection(set2)\n",
        "print(intersection_set)\n",
        "'''"
      ],
      "metadata": {
        "colab": {
          "base_uri": "https://localhost:8080/",
          "height": 35
        },
        "id": "OlADcswllTht",
        "outputId": "de4e548b-f1d1-43b5-e741-cd466d9d8563"
      },
      "execution_count": 27,
      "outputs": [
        {
          "output_type": "execute_result",
          "data": {
            "text/plain": [
              "'\\nset1 = {1, 2, 3}\\nset2 = {2, 3, 4}\\nintersection_set = set1.intersection(set2)\\nprint(intersection_set)\\n'"
            ],
            "application/vnd.google.colaboratory.intrinsic+json": {
              "type": "string"
            }
          },
          "metadata": {},
          "execution_count": 27
        }
      ]
    },
    {
      "cell_type": "code",
      "source": [
        "#21. Write a code to create a dictionary with the keys \"name\", \"age\", and \"city\", and print it.\n",
        "'''\n",
        "person = {\n",
        "    \"name\": \"Om\",\n",
        "    \"age\": 17,\n",
        "    \"city\": \"Gorakhpur\"\n",
        "}\n",
        "print(person)\n",
        "'''"
      ],
      "metadata": {
        "colab": {
          "base_uri": "https://localhost:8080/",
          "height": 35
        },
        "id": "4ve5gVrVlz8Z",
        "outputId": "f6afec37-3cdc-4042-c7d4-4f6b8b484cc9"
      },
      "execution_count": 28,
      "outputs": [
        {
          "output_type": "execute_result",
          "data": {
            "text/plain": [
              "'\\nperson = {\\n    \"name\": \"Om\",\\n    \"age\": 17,\\n    \"city\": \"Gorakhpur\"\\n}\\nprint(person)\\n'"
            ],
            "application/vnd.google.colaboratory.intrinsic+json": {
              "type": "string"
            }
          },
          "metadata": {},
          "execution_count": 28
        }
      ]
    },
    {
      "cell_type": "code",
      "source": [
        "#22. Write a code to add a new key-value pair \"country\": \"USA\" to the dictionary {'name': 'John', 'age': 25}.\n",
        "'''\n",
        "person = {'name': 'John', 'age': 25}\n",
        "person['country'] = 'USA'\n",
        "print(person)\n",
        "'''"
      ],
      "metadata": {
        "colab": {
          "base_uri": "https://localhost:8080/",
          "height": 35
        },
        "id": "gGpwS4l8mcy1",
        "outputId": "620b8427-fc5d-481d-82de-8f57f8644605"
      },
      "execution_count": 29,
      "outputs": [
        {
          "output_type": "execute_result",
          "data": {
            "text/plain": [
              "\"\\nperson = {'name': 'John', 'age': 25}\\nperson['country'] = 'USA'\\nprint(person)\\n\""
            ],
            "application/vnd.google.colaboratory.intrinsic+json": {
              "type": "string"
            }
          },
          "metadata": {},
          "execution_count": 29
        }
      ]
    },
    {
      "cell_type": "code",
      "source": [
        "#23. Write a code to access the value associated with the key \"name\" in the dictionary {'name': 'Alice', 'age': 30}.\n",
        "'''\n",
        "person = {'name': 'Alice', 'age': 30}\n",
        "name_value = person['name']\n",
        "print(name_value)\n",
        "'''\n"
      ],
      "metadata": {
        "colab": {
          "base_uri": "https://localhost:8080/",
          "height": 35
        },
        "id": "0WOSpktKniWJ",
        "outputId": "6ac0de54-86f0-4726-d821-2b042976b3e7"
      },
      "execution_count": 30,
      "outputs": [
        {
          "output_type": "execute_result",
          "data": {
            "text/plain": [
              "\"\\nperson = {'name': 'Alice', 'age': 30}\\nname_value = person['name']\\nprint(name_value)\\n\""
            ],
            "application/vnd.google.colaboratory.intrinsic+json": {
              "type": "string"
            }
          },
          "metadata": {},
          "execution_count": 30
        }
      ]
    },
    {
      "cell_type": "code",
      "source": [
        "#24. Write a code to remove the key \"age\" from the dictionary {'name': 'Bob', 'age': 22, 'city': 'New York'}.\n",
        "'''\n",
        "person = {'name': 'Bob', 'age': 22, 'city': 'New York'}\n",
        "del person['age']\n",
        "print(person)\n",
        "'''\n"
      ],
      "metadata": {
        "colab": {
          "base_uri": "https://localhost:8080/",
          "height": 35
        },
        "id": "QCzK4PcroKF3",
        "outputId": "57dc49f8-7d8c-47ff-8955-f86468087d64"
      },
      "execution_count": 31,
      "outputs": [
        {
          "output_type": "execute_result",
          "data": {
            "text/plain": [
              "\"\\nperson = {'name': 'Bob', 'age': 22, 'city': 'New York'}\\ndel person['age']\\nprint(person)\\n\""
            ],
            "application/vnd.google.colaboratory.intrinsic+json": {
              "type": "string"
            }
          },
          "metadata": {},
          "execution_count": 31
        }
      ]
    },
    {
      "cell_type": "code",
      "source": [
        "#25. Write a code to check if the key \"city\" exists in the dictionary {'name': 'Alice', 'city': 'Paris'}.\n",
        "'''\n",
        "person = {'name': 'Alice', 'city': 'Paris'}\n",
        "\n",
        "# Check if the key \"city\" exists\n",
        "if 'city' in person:\n",
        "    print(\"The key 'city' exists.\")\n",
        "else:\n",
        "    print(\"The key 'city' does not exist.\")\n",
        "'''\n"
      ],
      "metadata": {
        "colab": {
          "base_uri": "https://localhost:8080/",
          "height": 53
        },
        "id": "cClJJPsYojyi",
        "outputId": "20324d02-5f2d-4c6e-afa4-e8b6e2fd1e7f"
      },
      "execution_count": 32,
      "outputs": [
        {
          "output_type": "execute_result",
          "data": {
            "text/plain": [
              "'\\nperson = {\\'name\\': \\'Alice\\', \\'city\\': \\'Paris\\'}\\n\\n# Check if the key \"city\" exists\\nif \\'city\\' in person:\\n    print(\"The key \\'city\\' exists.\")\\nelse:\\n    print(\"The key \\'city\\' does not exist.\")\\n'"
            ],
            "application/vnd.google.colaboratory.intrinsic+json": {
              "type": "string"
            }
          },
          "metadata": {},
          "execution_count": 32
        }
      ]
    },
    {
      "cell_type": "code",
      "source": [
        "#26. Write a code to create a list, a tuple, and a dictionary, and print them all.\n",
        "'''\n",
        "# Creating a list\n",
        "my_list = [1, 2, 3, 4, 5]\n",
        "\n",
        "# Creating a tuple\n",
        "my_tuple = ('apple', 'banana', 'cherry')\n",
        "\n",
        "# Creating a dictionary with updated values\n",
        "my_dict = {'name': 'Om', 'age': 17, 'city': 'Gorakhpur'}\n",
        "\n",
        "# Printing the list, tuple, and dictionary\n",
        "print(\"List:\", my_list)\n",
        "print(\"Tuple:\", my_tuple)\n",
        "print(\"Dictionary:\", my_dict)\n",
        "'''\n"
      ],
      "metadata": {
        "colab": {
          "base_uri": "https://localhost:8080/",
          "height": 70
        },
        "id": "ex0kn6q1pG1U",
        "outputId": "2ad3f3da-a51f-4133-fb91-46fbcd472162"
      },
      "execution_count": 33,
      "outputs": [
        {
          "output_type": "execute_result",
          "data": {
            "text/plain": [
              "'\\n# Creating a list\\nmy_list = [1, 2, 3, 4, 5]\\n\\n# Creating a tuple\\nmy_tuple = (\\'apple\\', \\'banana\\', \\'cherry\\')\\n\\n# Creating a dictionary with updated values\\nmy_dict = {\\'name\\': \\'Om\\', \\'age\\': 17, \\'city\\': \\'Gorakhpur\\'}\\n\\n# Printing the list, tuple, and dictionary\\nprint(\"List:\", my_list)\\nprint(\"Tuple:\", my_tuple)\\nprint(\"Dictionary:\", my_dict)\\n'"
            ],
            "application/vnd.google.colaboratory.intrinsic+json": {
              "type": "string"
            }
          },
          "metadata": {},
          "execution_count": 33
        }
      ]
    },
    {
      "cell_type": "code",
      "source": [
        "#27.  Write a code to create a list of 5 random numbers between 1 and 100, sort it in ascending order, and print the result.(replaced)\n",
        "'''\n",
        "import random\n",
        "\n",
        "# Create a list of 5 random numbers between 1 and 100\n",
        "random_numbers = random.sample(range(1, 101), 5)\n",
        "\n",
        "# Sort the list in ascending order\n",
        "random_numbers.sort()\n",
        "\n",
        "# Print the result\n",
        "print(\"Sorted list:\", random_numbers)\n",
        "'''\n"
      ],
      "metadata": {
        "colab": {
          "base_uri": "https://localhost:8080/",
          "height": 53
        },
        "id": "EcPpqhirp6uy",
        "outputId": "ae9355a6-4b9b-4ac7-860a-e920aca3a4e4"
      },
      "execution_count": 34,
      "outputs": [
        {
          "output_type": "execute_result",
          "data": {
            "text/plain": [
              "'\\nimport random\\n\\n# Create a list of 5 random numbers between 1 and 100\\nrandom_numbers = random.sample(range(1, 101), 5)\\n\\n# Sort the list in ascending order\\nrandom_numbers.sort()\\n\\n# Print the result\\nprint(\"Sorted list:\", random_numbers)\\n'"
            ],
            "application/vnd.google.colaboratory.intrinsic+json": {
              "type": "string"
            }
          },
          "metadata": {},
          "execution_count": 34
        }
      ]
    },
    {
      "cell_type": "code",
      "source": [
        "#28. Write a code to create a list with strings and print the element at the third index.\n",
        "'''\n",
        "# Create a list with strings\n",
        "words = [\"apple\", \"banana\", \"cherry\", \"date\", \"elderberry\"]\n",
        "\n",
        "# Print the element at the third index (index 3)\n",
        "print(\"Element at index 3:\", words[3])\n",
        "'''"
      ],
      "metadata": {
        "colab": {
          "base_uri": "https://localhost:8080/",
          "height": 53
        },
        "id": "oYDlqbtTqU8B",
        "outputId": "2cd3db3f-2ae2-4ea2-8683-34287bd2e83b"
      },
      "execution_count": 35,
      "outputs": [
        {
          "output_type": "execute_result",
          "data": {
            "text/plain": [
              "'\\n# Create a list with strings\\nwords = [\"apple\", \"banana\", \"cherry\", \"date\", \"elderberry\"]\\n\\n# Print the element at the third index (index 3)\\nprint(\"Element at index 3:\", words[3])\\n'"
            ],
            "application/vnd.google.colaboratory.intrinsic+json": {
              "type": "string"
            }
          },
          "metadata": {},
          "execution_count": 35
        }
      ]
    },
    {
      "cell_type": "code",
      "source": [
        "#29. Write a code to combine two dictionaries into one and print the result.\n",
        "'''\n",
        "# First dictionary\n",
        "dict1 = {'name': 'Om', 'age': 17}\n",
        "\n",
        "# Second dictionary\n",
        "dict2 = {'city': 'Gorakhpur', 'country': 'India'}\n",
        "\n",
        "# Combine the dictionaries\n",
        "combined_dict = {**dict1, **dict2}\n",
        "\n",
        "# Print the result\n",
        "print(\"Combined dictionary:\", combined_dict)\n",
        "'''\n"
      ],
      "metadata": {
        "colab": {
          "base_uri": "https://localhost:8080/",
          "height": 53
        },
        "id": "kx95zbujqqYD",
        "outputId": "1d52b017-ec04-4bb1-94e9-1f54a297cfed"
      },
      "execution_count": 36,
      "outputs": [
        {
          "output_type": "execute_result",
          "data": {
            "text/plain": [
              "'\\n# First dictionary\\ndict1 = {\\'name\\': \\'Om\\', \\'age\\': 17}\\n\\n# Second dictionary\\ndict2 = {\\'city\\': \\'Gorakhpur\\', \\'country\\': \\'India\\'}\\n\\n# Combine the dictionaries\\ncombined_dict = {**dict1, **dict2}\\n\\n# Print the result\\nprint(\"Combined dictionary:\", combined_dict)\\n'"
            ],
            "application/vnd.google.colaboratory.intrinsic+json": {
              "type": "string"
            }
          },
          "metadata": {},
          "execution_count": 36
        }
      ]
    },
    {
      "cell_type": "code",
      "source": [
        "#30. Write a code to convert a list of strings into a set.\n",
        "'''\n",
        "# Create a list of strings\n",
        "string_list = [\"apple\", \"banana\", \"cherry\", \"apple\", \"banana\"]\n",
        "\n",
        "# Convert the list to a set\n",
        "string_set = set(string_list)\n",
        "\n",
        "# Print the set\n",
        "print(\"Set:\", string_set)\n",
        "'''\n"
      ],
      "metadata": {
        "colab": {
          "base_uri": "https://localhost:8080/",
          "height": 53
        },
        "id": "Ln7mHPmtrNtF",
        "outputId": "45c0fee6-54c3-4f41-87eb-e0138b4c77dd"
      },
      "execution_count": 37,
      "outputs": [
        {
          "output_type": "execute_result",
          "data": {
            "text/plain": [
              "'\\n# Create a list of strings\\nstring_list = [\"apple\", \"banana\", \"cherry\", \"apple\", \"banana\"]\\n\\n# Convert the list to a set\\nstring_set = set(string_list)\\n\\n# Print the set\\nprint(\"Set:\", string_set)\\n'"
            ],
            "application/vnd.google.colaboratory.intrinsic+json": {
              "type": "string"
            }
          },
          "metadata": {},
          "execution_count": 37
        }
      ]
    },
    {
      "cell_type": "code",
      "source": [],
      "metadata": {
        "id": "U3EJvlcSre3y"
      },
      "execution_count": null,
      "outputs": []
    }
  ]
}